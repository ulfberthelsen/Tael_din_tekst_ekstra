{
 "cells": [
  {
   "cell_type": "markdown",
   "id": "dominant-picking",
   "metadata": {},
   "source": [
    "# Ordfrekvens, stopordsliste, sentiment"
   ]
  },
  {
   "cell_type": "markdown",
   "id": "colored-colony",
   "metadata": {},
   "source": [
    "## Frekvens med Counter()"
   ]
  },
  {
   "cell_type": "code",
   "execution_count": 3,
   "id": "charged-airfare",
   "metadata": {},
   "outputs": [],
   "source": [
    "from collections import Counter"
   ]
  },
  {
   "cell_type": "code",
   "execution_count": 4,
   "id": "particular-medium",
   "metadata": {},
   "outputs": [],
   "source": [
    "råTxt = \"Der var en gang og for enden af den gang var der en dør og bag den dør var der en gang\"\n",
    "txtLow = råTxt.lower()"
   ]
  },
  {
   "cell_type": "code",
   "execution_count": 5,
   "id": "assured-checkout",
   "metadata": {},
   "outputs": [
    {
     "data": {
      "text/plain": [
       "'der var en gang og for enden af den gang var der en dør og bag den dør var der en gang'"
      ]
     },
     "execution_count": 5,
     "metadata": {},
     "output_type": "execute_result"
    }
   ],
   "source": [
    "txtLow"
   ]
  },
  {
   "cell_type": "code",
   "execution_count": 6,
   "id": "cross-slide",
   "metadata": {},
   "outputs": [
    {
     "data": {
      "text/plain": [
       "Counter({'D': 1,\n",
       "         'e': 10,\n",
       "         'r': 9,\n",
       "         ' ': 21,\n",
       "         'v': 3,\n",
       "         'a': 8,\n",
       "         'n': 10,\n",
       "         'g': 9,\n",
       "         'o': 3,\n",
       "         'f': 2,\n",
       "         'd': 7,\n",
       "         'ø': 2,\n",
       "         'b': 1})"
      ]
     },
     "execution_count": 6,
     "metadata": {},
     "output_type": "execute_result"
    }
   ],
   "source": [
    "# tæller bogstaver\n",
    "Counter(råTxt)"
   ]
  },
  {
   "cell_type": "code",
   "execution_count": 7,
   "id": "vietnamese-dress",
   "metadata": {},
   "outputs": [
    {
     "data": {
      "text/plain": [
       "Counter({'Der': 1,\n",
       "         'var': 3,\n",
       "         'en': 3,\n",
       "         'gang': 3,\n",
       "         'og': 2,\n",
       "         'for': 1,\n",
       "         'enden': 1,\n",
       "         'af': 1,\n",
       "         'den': 2,\n",
       "         'der': 2,\n",
       "         'dør': 2,\n",
       "         'bag': 1})"
      ]
     },
     "execution_count": 7,
     "metadata": {},
     "output_type": "execute_result"
    }
   ],
   "source": [
    "# tæller ord - bemærk at store bakgstaver gør en forskel\n",
    "Counter(råTxt.split(\" \"))\n"
   ]
  },
  {
   "cell_type": "code",
   "execution_count": 8,
   "id": "foreign-citizenship",
   "metadata": {},
   "outputs": [
    {
     "data": {
      "text/plain": [
       "Counter({'der': 3,\n",
       "         'var': 3,\n",
       "         'en': 3,\n",
       "         'gang': 3,\n",
       "         'og': 2,\n",
       "         'for': 1,\n",
       "         'enden': 1,\n",
       "         'af': 1,\n",
       "         'den': 2,\n",
       "         'dør': 2,\n",
       "         'bag': 1})"
      ]
     },
     "execution_count": 8,
     "metadata": {},
     "output_type": "execute_result"
    }
   ],
   "source": [
    "# skelner\n",
    "Counter(txtLow.split(\" \"))"
   ]
  },
  {
   "cell_type": "markdown",
   "id": "imperial-mississippi",
   "metadata": {},
   "source": [
    "## Tilpassede stopordslister"
   ]
  },
  {
   "cell_type": "code",
   "execution_count": 9,
   "id": "ordered-table",
   "metadata": {},
   "outputs": [],
   "source": [
    "stopLst = [\"der\", \"var\", \"en\", \"og\", \"af\", \"den\", \"for\"]"
   ]
  },
  {
   "cell_type": "code",
   "execution_count": 10,
   "id": "growing-attitude",
   "metadata": {},
   "outputs": [],
   "source": [
    "# appender kun ord der IKKE er på stopordslisten\n",
    "rensLst = []\n",
    "for w in txtLow.split(\" \"):\n",
    "    if w not in stopLst:\n",
    "        rensLst.append(w)"
   ]
  },
  {
   "cell_type": "code",
   "execution_count": 11,
   "id": "blank-appreciation",
   "metadata": {},
   "outputs": [
    {
     "data": {
      "text/plain": [
       "['gang', 'enden', 'gang', 'dør', 'bag', 'dør', 'gang']"
      ]
     },
     "execution_count": 11,
     "metadata": {},
     "output_type": "execute_result"
    }
   ],
   "source": [
    "rensLst"
   ]
  },
  {
   "cell_type": "markdown",
   "id": "opposed-above",
   "metadata": {},
   "source": [
    "## Domænespecifik sentiment \n",
    "#### Samme strategi kan bruges til andre ting, hvor udtryk (key) systematisk skal kobles med en værdi/begreb/kategori/etc. (value)."
   ]
  },
  {
   "cell_type": "code",
   "execution_count": null,
   "id": "medium-reward",
   "metadata": {},
   "outputs": [],
   "source": [
    "# matcher key/value par i en dictonary\n",
    "# tjekker alle ord på listen (bag of words)\n",
    "# hvis ordet er i dictionarien lægges ordets score til den samlede score\n",
    "txt = [\"De\", \"har\", \"både\", \"en\", \"sportsvogn\", \"og\", \"en\", \"børnecontainer\"]\n",
    "dict = {\n",
    "    \"bil\": 0,\n",
    "    \"sportsvogn\": 5,\n",
    "    \"børnecontainer\": -3,\n",
    "    \"skrotbunke\":-5\n",
    "}\n",
    "score = 0\n",
    "\n",
    "for w in txt:\n",
    "    for k, v in dict.items():\n",
    "        if w == k:\n",
    "            score = score + v\n",
    "            print(\"Item score:\", k, v)\n",
    "print(\"Samlet score: \", score)\n",
    "            \n"
   ]
  }
 ],
 "metadata": {
  "kernelspec": {
   "display_name": "Python 3",
   "language": "python",
   "name": "python3"
  },
  "language_info": {
   "codemirror_mode": {
    "name": "ipython",
    "version": 3
   },
   "file_extension": ".py",
   "mimetype": "text/x-python",
   "name": "python",
   "nbconvert_exporter": "python",
   "pygments_lexer": "ipython3",
   "version": "3.8.8"
  }
 },
 "nbformat": 4,
 "nbformat_minor": 5
}
